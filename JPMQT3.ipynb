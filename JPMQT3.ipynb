{
 "cells": [
  {
   "cell_type": "code",
   "execution_count": 8,
   "id": "3a1daa94-6b60-4e76-aa88-77709578d1f7",
   "metadata": {},
   "outputs": [],
   "source": [
    "import pandas as pd\n",
    "import matplotlib.pyplot as plt\n",
    "import numpy as np\n",
    "from sklearn.model_selection import train_test_split\n",
    "from sklearn.preprocessing import StandardScaler\n",
    "from sklearn.linear_model import LogisticRegression\n",
    "from sklearn.metrics import roc_auc_score, f1_score\n",
    "from sklearn.tree import DecisionTreeClassifier\n",
    "from sklearn.ensemble import RandomForestClassifier"
   ]
  },
  {
   "cell_type": "code",
   "execution_count": 3,
   "id": "2f68f580-0007-44be-8866-e11e19ccab22",
   "metadata": {},
   "outputs": [],
   "source": [
    "data = pd.read_csv ('Task 3 and 4_Loan_data.csv')"
   ]
  },
  {
   "cell_type": "code",
   "execution_count": 5,
   "id": "eb242de0-b577-496d-bf5c-a730065f43d8",
   "metadata": {},
   "outputs": [
    {
     "name": "stdout",
     "output_type": "stream",
     "text": [
      "customer_id                 0\n",
      "credit_lines_outstanding    0\n",
      "loan_amt_outstanding        0\n",
      "total_debt_outstanding      0\n",
      "income                      0\n",
      "years_employed              0\n",
      "fico_score                  0\n",
      "default                     0\n",
      "dtype: int64\n",
      "   customer_id  credit_lines_outstanding  loan_amt_outstanding  \\\n",
      "0      8153374                         0           5221.545193   \n",
      "1      7442532                         5           1958.928726   \n",
      "2      2256073                         0           3363.009259   \n",
      "3      4885975                         0           4766.648001   \n",
      "4      4700614                         1           1345.827718   \n",
      "\n",
      "   total_debt_outstanding       income  years_employed  fico_score  default  \n",
      "0             3915.471226  78039.38546               5         605        0  \n",
      "1             8228.752520  26648.43525               2         572        1  \n",
      "2             2027.830850  65866.71246               4         602        0  \n",
      "3             2501.730397  74356.88347               5         612        0  \n",
      "4             1768.826187  23448.32631               6         631        0  \n"
     ]
    }
   ],
   "source": [
    "print(data.isna().sum())\n",
    "print(data.head())"
   ]
  },
  {
   "cell_type": "markdown",
   "id": "9f31caec-ae9a-4736-b225-4ee52fdd81d3",
   "metadata": {},
   "source": [
    "# Building the model"
   ]
  },
  {
   "cell_type": "code",
   "execution_count": 6,
   "id": "f3fff8b1-4394-4337-ae26-9379ca6e8eb5",
   "metadata": {},
   "outputs": [
    {
     "name": "stdout",
     "output_type": "stream",
     "text": [
      "       credit_lines_outstanding  loan_amt_outstanding  total_debt_outstanding  \\\n",
      "count              10000.000000          10000.000000            10000.000000   \n",
      "mean                   1.461200           4159.677034             8718.916797   \n",
      "std                    1.743846           1421.399078             6627.164762   \n",
      "min                    0.000000             46.783973               31.652732   \n",
      "25%                    0.000000           3154.235371             4199.836020   \n",
      "50%                    1.000000           4052.377228             6732.407217   \n",
      "75%                    2.000000           5052.898103            11272.263740   \n",
      "max                    5.000000          10750.677810            43688.784100   \n",
      "\n",
      "              income  years_employed    fico_score  \n",
      "count   10000.000000    10000.000000  10000.000000  \n",
      "mean    70039.901401        4.552800    637.557700  \n",
      "std     20072.214143        1.566862     60.657906  \n",
      "min      1000.000000        0.000000    408.000000  \n",
      "25%     56539.867903        3.000000    597.000000  \n",
      "50%     70085.826330        5.000000    638.000000  \n",
      "75%     83429.166133        6.000000    679.000000  \n",
      "max    148412.180500       10.000000    850.000000   count    10000.000000\n",
      "mean         0.185100\n",
      "std          0.388398\n",
      "min          0.000000\n",
      "25%          0.000000\n",
      "50%          0.000000\n",
      "75%          0.000000\n",
      "max          1.000000\n",
      "Name: default, dtype: float64\n"
     ]
    }
   ],
   "source": [
    "X = data[['credit_lines_outstanding', 'loan_amt_outstanding', 'total_debt_outstanding', 'income', 'years_employed', 'fico_score']]\n",
    "y = data['default']\n",
    "\n",
    "print(X.describe(), y.describe())"
   ]
  },
  {
   "cell_type": "code",
   "execution_count": 9,
   "id": "dc720d24-56d1-4c84-84d3-38de818d8db6",
   "metadata": {},
   "outputs": [],
   "source": [
    "# Split for train and test set\n",
    "X_train, X_test, y_train, y_test = train_test_split(X, y, test_size=0.3, stratify=y, random_state=1111)\n",
    "\n",
    "# Standardize the data\n",
    "sc = StandardScaler()\n",
    "X_train = sc.fit_transform(X_train)\n",
    "X_test = sc.transform(X_test)"
   ]
  },
  {
   "cell_type": "markdown",
   "id": "489df924-aefb-414f-a60d-d986f6c6a120",
   "metadata": {},
   "source": [
    "# Using f1 and RAROC to see which model performs the best"
   ]
  },
  {
   "cell_type": "markdown",
   "id": "26742a36-06f2-4099-beea-394a04960d2a",
   "metadata": {},
   "source": [
    "### Logistic regression"
   ]
  },
  {
   "cell_type": "code",
   "execution_count": 10,
   "id": "6b411dd7-da20-4cd3-90e3-855eba59c9d5",
   "metadata": {},
   "outputs": [
    {
     "name": "stdout",
     "output_type": "stream",
     "text": [
      "0.9999985261334955\n",
      "0.997289972899729\n"
     ]
    }
   ],
   "source": [
    "# Instantiate Logistic Regression Model for Classification and fit the model\n",
    "logit = LogisticRegression().fit(X_train, y_train)\n",
    "# Predict the value\n",
    "y_pred_logit = logit.predict(X_test)\n",
    "# Predict the probability\n",
    "y_pred_proba_logit = logit.predict_proba(X_test)[:,1]\n",
    "# Calculate the RAROC value and f1 for the model\n",
    "logit_score = roc_auc_score(y_test, y_pred_proba_logit)\n",
    "print(logit_score)\n",
    "logit_f1 = f1_score(y_test, y_pred_logit)\n",
    "print(logit_f1)"
   ]
  },
  {
   "cell_type": "markdown",
   "id": "71dcbae9-c0a1-472d-ac0e-27bd8e944441",
   "metadata": {},
   "source": [
    "### Decision tree"
   ]
  },
  {
   "cell_type": "code",
   "execution_count": 11,
   "id": "96a944b3-91b7-4489-8e94-7d2ae05e1af1",
   "metadata": {},
   "outputs": [
    {
     "name": "stdout",
     "output_type": "stream",
     "text": [
      "0.9949649035538606\n",
      "0.9901168014375561\n"
     ]
    }
   ],
   "source": [
    "# Instantiate Decision Tree Model for Classification and fit the model\n",
    "dt = DecisionTreeClassifier().fit(X_train, y_train)\n",
    "# Predict the value\n",
    "y_pred_dt = dt.predict(X_test)\n",
    "# Predict the probability\n",
    "y_pred_proba_dt = dt.predict_proba(X_test)[:,1]\n",
    "# Calculate the RAROC value and f1 for the model\n",
    "dt_score = roc_auc_score(y_test, y_pred_proba_dt)\n",
    "print(dt_score)\n",
    "dt_f1 = f1_score(y_test, y_pred_dt)\n",
    "print(dt_f1)"
   ]
  },
  {
   "cell_type": "markdown",
   "id": "e56b71bd-b4ce-4c1b-a3d1-b6026fc2f073",
   "metadata": {},
   "source": [
    "## Random forest classifier"
   ]
  },
  {
   "cell_type": "code",
   "execution_count": 12,
   "id": "b7d666a0-d424-49ee-add4-76d914f6857e",
   "metadata": {},
   "outputs": [
    {
     "name": "stdout",
     "output_type": "stream",
     "text": [
      "0.9998695628143481\n",
      "0.9927667269439422\n"
     ]
    }
   ],
   "source": [
    "# Instantiate Random Forest Model for Classification and fit the model\n",
    "rfc = RandomForestClassifier().fit(X_train, y_train)\n",
    "# Predict the value\n",
    "y_pred_rfc = rfc.predict(X_test)\n",
    "# Predict the probability\n",
    "y_pred_proba_rfc = rfc.predict_proba(X_test)[:,1]\n",
    "# Calculate the RAROC value and f1 for the model\n",
    "rfc_score = roc_auc_score(y_test, y_pred_proba_rfc)\n",
    "print(rfc_score)\n",
    "rfc_f1 = f1_score(y_test, y_pred_rfc)\n",
    "print(rfc_f1)"
   ]
  },
  {
   "cell_type": "markdown",
   "id": "52d9c8ee-5664-4573-8503-3d006c95f529",
   "metadata": {},
   "source": [
    "## Modelling the function using logistic regression"
   ]
  },
  {
   "cell_type": "code",
   "execution_count": 16,
   "id": "432d6f7f-9112-4e16-a3fe-0d4f62445308",
   "metadata": {},
   "outputs": [],
   "source": [
    "# Define varibles for EL\n",
    "ead = data['loan_amt_outstanding']\n",
    "rr = 0.1\n",
    "lgd = 1 - rr\n",
    "pd = np.append(logit.predict_proba(X_train)[:,1], logit.predict_proba(X_test)[:,1])\n",
    "\n",
    "def exp_loss(lgd, ead, pd):\n",
    "    el = lgd * ead * pd\n",
    "    return el"
   ]
  },
  {
   "cell_type": "code",
   "execution_count": null,
   "id": "8db80534-d316-4cfd-8868-8edc6b39d4d8",
   "metadata": {},
   "outputs": [
    {
     "name": "stdin",
     "output_type": "stream",
     "text": [
      "Enter the index of the line you want to see the expected loss for:  4\n"
     ]
    },
    {
     "name": "stdout",
     "output_type": "stream",
     "text": [
      "Expected loss for index 4: 2.6450685491853204e-05\n"
     ]
    }
   ],
   "source": [
    "# Prompt the user to input the index of the line they want to see\n",
    "index = int(input(\"Enter the index of the line you want to see the expected loss for: \"))\n",
    "\n",
    "# Check if the index is within the valid range\n",
    "if index >= 0 and index < len(ead):\n",
    "    # Calculate expected loss for the specified index\n",
    "    expected_loss = exp_loss(lgd, ead[index], pd[index])\n",
    "    print(\"Expected loss for index {}: {}\".format(index, expected_loss))\n",
    "else:\n",
    "    print(\"Invalid index. Please enter a valid index within the range of the dataset.\")\n",
    "# Define varibles for EL\n",
    "ead = data['loan_amt_outstanding']\n",
    "rr = 0.1\n",
    "lgd = 1 - rr\n",
    "pd = np.append(logit.predict_proba(X_train)[:,1], logit.predict_proba(X_test)[:,1])\n",
    "\n",
    "def exp_loss(lgd, ead, pd):\n",
    "    el = lgd * ead * pd\n",
    "    return el\n",
    "\n",
    "# Prompt the user to input the index of the line they want to see\n",
    "index = int(input(\"Enter the index of the line you want to see the expected loss for: \"))\n",
    "\n",
    "# Check if the index is within the valid range\n",
    "if index >= 0 and index < len(ead):\n",
    "    # Calculate expected loss for the specified index\n",
    "    expected_loss = exp_loss(lgd, ead[index], pd[index])\n",
    "    print(\"Expected loss for index {}: {}\".format(index, expected_loss))\n",
    "else:\n",
    "    print(\"Invalid index. Please enter a valid index within the range of the dataset.\")\n"
   ]
  },
  {
   "cell_type": "code",
   "execution_count": null,
   "id": "a36a217f-0f5e-4cdd-91b8-46e7907f641d",
   "metadata": {},
   "outputs": [],
   "source": []
  }
 ],
 "metadata": {
  "kernelspec": {
   "display_name": "Python 3 (ipykernel)",
   "language": "python",
   "name": "python3"
  },
  "language_info": {
   "codemirror_mode": {
    "name": "ipython",
    "version": 3
   },
   "file_extension": ".py",
   "mimetype": "text/x-python",
   "name": "python",
   "nbconvert_exporter": "python",
   "pygments_lexer": "ipython3",
   "version": "3.11.7"
  }
 },
 "nbformat": 4,
 "nbformat_minor": 5
}
