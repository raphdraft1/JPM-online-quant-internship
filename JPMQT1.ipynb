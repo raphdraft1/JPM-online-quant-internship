{
 "cells": [
  {
   "cell_type": "code",
   "execution_count": 1,
   "id": "a83e9137-4631-4309-b545-d0ffe81e307b",
   "metadata": {},
   "outputs": [],
   "source": [
    "import pandas as pd\n",
    "import numpy as np\n",
    "from statsmodels.tsa.statespace.sarimax import SARIMAX\n",
    "import matplotlib.pyplot as plt\n",
    "\n",
    "# Load the monthly natural gas price data\n",
    "data = pd.read_csv('Nat_Gas.csv')\n",
    "\n",
    "# Convert the 'Dates' column to datetime format\n",
    "data['Dates'] = pd.to_datetime(data['Dates'], format='%m/%d/%y')\n",
    "\n",
    "# Set the 'Dates' column as the index\n",
    "data.set_index('Dates', inplace=True)\n"
   ]
  },
  {
   "cell_type": "markdown",
   "id": "fe89e204-12a0-4667-8659-cc9af27780af",
   "metadata": {},
   "source": [
    "## Finding the best values for the SARIMA model"
   ]
  },
  {
   "cell_type": "code",
   "execution_count": 21,
   "id": "6b861bf5-0ccb-425b-986a-602e4783aee0",
   "metadata": {},
   "outputs": [
    {
     "name": "stdout",
     "output_type": "stream",
     "text": [
      "Performing stepwise search to minimize aic\n",
      " ARIMA(2,1,2)(1,0,1)[12] intercept   : AIC=36.454, Time=0.30 sec\n",
      " ARIMA(0,1,0)(0,0,0)[12] intercept   : AIC=48.334, Time=0.03 sec\n",
      " ARIMA(1,1,0)(1,0,0)[12] intercept   : AIC=38.394, Time=0.05 sec\n",
      " ARIMA(0,1,1)(0,0,1)[12] intercept   : AIC=42.336, Time=0.04 sec\n",
      " ARIMA(0,1,0)(0,0,0)[12]             : AIC=46.741, Time=0.01 sec\n",
      " ARIMA(2,1,2)(0,0,1)[12] intercept   : AIC=inf, Time=0.21 sec\n",
      " ARIMA(2,1,2)(1,0,0)[12] intercept   : AIC=39.688, Time=0.22 sec\n",
      " ARIMA(2,1,2)(2,0,1)[12] intercept   : AIC=39.336, Time=0.44 sec\n",
      " ARIMA(2,1,2)(1,0,2)[12] intercept   : AIC=38.769, Time=0.41 sec\n",
      " ARIMA(2,1,2)(0,0,0)[12] intercept   : AIC=36.098, Time=0.17 sec\n",
      " ARIMA(1,1,2)(0,0,0)[12] intercept   : AIC=53.197, Time=0.05 sec\n",
      " ARIMA(2,1,1)(0,0,0)[12] intercept   : AIC=53.566, Time=0.04 sec\n",
      " ARIMA(3,1,2)(0,0,0)[12] intercept   : AIC=53.701, Time=0.11 sec\n",
      " ARIMA(2,1,3)(0,0,0)[12] intercept   : AIC=53.674, Time=0.10 sec\n",
      " ARIMA(1,1,1)(0,0,0)[12] intercept   : AIC=51.953, Time=0.04 sec\n",
      " ARIMA(1,1,3)(0,0,0)[12] intercept   : AIC=54.043, Time=0.07 sec\n",
      " ARIMA(3,1,1)(0,0,0)[12] intercept   : AIC=inf, Time=0.16 sec\n",
      " ARIMA(3,1,3)(0,0,0)[12] intercept   : AIC=inf, Time=0.18 sec\n",
      " ARIMA(2,1,2)(0,0,0)[12]             : AIC=inf, Time=0.11 sec\n",
      "\n",
      "Best model:  ARIMA(2,1,2)(0,0,0)[12] intercept\n",
      "Total fit time: 2.763 seconds\n"
     ]
    },
    {
     "data": {
      "text/html": [
       "<table class=\"simpletable\">\n",
       "<caption>SARIMAX Results</caption>\n",
       "<tr>\n",
       "  <th>Dep. Variable:</th>           <td>y</td>        <th>  No. Observations:  </th>   <td>48</td>   \n",
       "</tr>\n",
       "<tr>\n",
       "  <th>Model:</th>           <td>SARIMAX(2, 1, 2)</td> <th>  Log Likelihood     </th> <td>-12.049</td>\n",
       "</tr>\n",
       "<tr>\n",
       "  <th>Date:</th>            <td>Tue, 07 May 2024</td> <th>  AIC                </th> <td>36.098</td> \n",
       "</tr>\n",
       "<tr>\n",
       "  <th>Time:</th>                <td>22:05:26</td>     <th>  BIC                </th> <td>47.199</td> \n",
       "</tr>\n",
       "<tr>\n",
       "  <th>Sample:</th>             <td>10-31-2020</td>    <th>  HQIC               </th> <td>40.275</td> \n",
       "</tr>\n",
       "<tr>\n",
       "  <th></th>                   <td>- 09-30-2024</td>   <th>                     </th>    <td> </td>   \n",
       "</tr>\n",
       "<tr>\n",
       "  <th>Covariance Type:</th>        <td>opg</td>       <th>                     </th>    <td> </td>   \n",
       "</tr>\n",
       "</table>\n",
       "<table class=\"simpletable\">\n",
       "<tr>\n",
       "      <td></td>         <th>coef</th>     <th>std err</th>      <th>z</th>      <th>P>|z|</th>  <th>[0.025</th>    <th>0.975]</th>  \n",
       "</tr>\n",
       "<tr>\n",
       "  <th>intercept</th> <td>    0.0096</td> <td>    0.008</td> <td>    1.258</td> <td> 0.208</td> <td>   -0.005</td> <td>    0.025</td>\n",
       "</tr>\n",
       "<tr>\n",
       "  <th>ar.L1</th>     <td>    1.6958</td> <td>    0.048</td> <td>   35.383</td> <td> 0.000</td> <td>    1.602</td> <td>    1.790</td>\n",
       "</tr>\n",
       "<tr>\n",
       "  <th>ar.L2</th>     <td>   -0.9632</td> <td>    0.045</td> <td>  -21.466</td> <td> 0.000</td> <td>   -1.051</td> <td>   -0.875</td>\n",
       "</tr>\n",
       "<tr>\n",
       "  <th>ma.L1</th>     <td>   -1.8043</td> <td>    0.284</td> <td>   -6.358</td> <td> 0.000</td> <td>   -2.360</td> <td>   -1.248</td>\n",
       "</tr>\n",
       "<tr>\n",
       "  <th>ma.L2</th>     <td>    0.9516</td> <td>    0.315</td> <td>    3.021</td> <td> 0.003</td> <td>    0.334</td> <td>    1.569</td>\n",
       "</tr>\n",
       "<tr>\n",
       "  <th>sigma2</th>    <td>    0.0881</td> <td>    0.030</td> <td>    2.967</td> <td> 0.003</td> <td>    0.030</td> <td>    0.146</td>\n",
       "</tr>\n",
       "</table>\n",
       "<table class=\"simpletable\">\n",
       "<tr>\n",
       "  <th>Ljung-Box (L1) (Q):</th>     <td>6.65</td> <th>  Jarque-Bera (JB):  </th> <td>2.31</td>\n",
       "</tr>\n",
       "<tr>\n",
       "  <th>Prob(Q):</th>                <td>0.01</td> <th>  Prob(JB):          </th> <td>0.31</td>\n",
       "</tr>\n",
       "<tr>\n",
       "  <th>Heteroskedasticity (H):</th> <td>0.87</td> <th>  Skew:              </th> <td>0.50</td>\n",
       "</tr>\n",
       "<tr>\n",
       "  <th>Prob(H) (two-sided):</th>    <td>0.78</td> <th>  Kurtosis:          </th> <td>2.59</td>\n",
       "</tr>\n",
       "</table><br/><br/>Warnings:<br/>[1] Covariance matrix calculated using the outer product of gradients (complex-step)."
      ],
      "text/latex": [
       "\\begin{center}\n",
       "\\begin{tabular}{lclc}\n",
       "\\toprule\n",
       "\\textbf{Dep. Variable:}          &        y         & \\textbf{  No. Observations:  } &     48      \\\\\n",
       "\\textbf{Model:}                  & SARIMAX(2, 1, 2) & \\textbf{  Log Likelihood     } &  -12.049    \\\\\n",
       "\\textbf{Date:}                   & Tue, 07 May 2024 & \\textbf{  AIC                } &   36.098    \\\\\n",
       "\\textbf{Time:}                   &     22:05:26     & \\textbf{  BIC                } &   47.199    \\\\\n",
       "\\textbf{Sample:}                 &    10-31-2020    & \\textbf{  HQIC               } &   40.275    \\\\\n",
       "\\textbf{}                        &   - 09-30-2024   & \\textbf{                     } &             \\\\\n",
       "\\textbf{Covariance Type:}        &       opg        & \\textbf{                     } &             \\\\\n",
       "\\bottomrule\n",
       "\\end{tabular}\n",
       "\\begin{tabular}{lcccccc}\n",
       "                   & \\textbf{coef} & \\textbf{std err} & \\textbf{z} & \\textbf{P$> |$z$|$} & \\textbf{[0.025} & \\textbf{0.975]}  \\\\\n",
       "\\midrule\n",
       "\\textbf{intercept} &       0.0096  &        0.008     &     1.258  &         0.208        &       -0.005    &        0.025     \\\\\n",
       "\\textbf{ar.L1}     &       1.6958  &        0.048     &    35.383  &         0.000        &        1.602    &        1.790     \\\\\n",
       "\\textbf{ar.L2}     &      -0.9632  &        0.045     &   -21.466  &         0.000        &       -1.051    &       -0.875     \\\\\n",
       "\\textbf{ma.L1}     &      -1.8043  &        0.284     &    -6.358  &         0.000        &       -2.360    &       -1.248     \\\\\n",
       "\\textbf{ma.L2}     &       0.9516  &        0.315     &     3.021  &         0.003        &        0.334    &        1.569     \\\\\n",
       "\\textbf{sigma2}    &       0.0881  &        0.030     &     2.967  &         0.003        &        0.030    &        0.146     \\\\\n",
       "\\bottomrule\n",
       "\\end{tabular}\n",
       "\\begin{tabular}{lclc}\n",
       "\\textbf{Ljung-Box (L1) (Q):}     & 6.65 & \\textbf{  Jarque-Bera (JB):  } & 2.31  \\\\\n",
       "\\textbf{Prob(Q):}                & 0.01 & \\textbf{  Prob(JB):          } & 0.31  \\\\\n",
       "\\textbf{Heteroskedasticity (H):} & 0.87 & \\textbf{  Skew:              } & 0.50  \\\\\n",
       "\\textbf{Prob(H) (two-sided):}    & 0.78 & \\textbf{  Kurtosis:          } & 2.59  \\\\\n",
       "\\bottomrule\n",
       "\\end{tabular}\n",
       "%\\caption{SARIMAX Results}\n",
       "\\end{center}\n",
       "\n",
       "Warnings: \\newline\n",
       " [1] Covariance matrix calculated using the outer product of gradients (complex-step)."
      ],
      "text/plain": [
       "<class 'statsmodels.iolib.summary.Summary'>\n",
       "\"\"\"\n",
       "                               SARIMAX Results                                \n",
       "==============================================================================\n",
       "Dep. Variable:                      y   No. Observations:                   48\n",
       "Model:               SARIMAX(2, 1, 2)   Log Likelihood                 -12.049\n",
       "Date:                Tue, 07 May 2024   AIC                             36.098\n",
       "Time:                        22:05:26   BIC                             47.199\n",
       "Sample:                    10-31-2020   HQIC                            40.275\n",
       "                         - 09-30-2024                                         \n",
       "Covariance Type:                  opg                                         \n",
       "==============================================================================\n",
       "                 coef    std err          z      P>|z|      [0.025      0.975]\n",
       "------------------------------------------------------------------------------\n",
       "intercept      0.0096      0.008      1.258      0.208      -0.005       0.025\n",
       "ar.L1          1.6958      0.048     35.383      0.000       1.602       1.790\n",
       "ar.L2         -0.9632      0.045    -21.466      0.000      -1.051      -0.875\n",
       "ma.L1         -1.8043      0.284     -6.358      0.000      -2.360      -1.248\n",
       "ma.L2          0.9516      0.315      3.021      0.003       0.334       1.569\n",
       "sigma2         0.0881      0.030      2.967      0.003       0.030       0.146\n",
       "===================================================================================\n",
       "Ljung-Box (L1) (Q):                   6.65   Jarque-Bera (JB):                 2.31\n",
       "Prob(Q):                              0.01   Prob(JB):                         0.31\n",
       "Heteroskedasticity (H):               0.87   Skew:                             0.50\n",
       "Prob(H) (two-sided):                  0.78   Kurtosis:                         2.59\n",
       "===================================================================================\n",
       "\n",
       "Warnings:\n",
       "[1] Covariance matrix calculated using the outer product of gradients (complex-step).\n",
       "\"\"\""
      ]
     },
     "execution_count": 21,
     "metadata": {},
     "output_type": "execute_result"
    }
   ],
   "source": [
    "import pmdarima as pm\n",
    "from pmdarima.model_selection import train_test_split\n",
    "\n",
    "pm.auto_arima(data['Prices'], seasonal=True, m=12,max_p=7, max_d=5,max_q=7, max_P=4, max_D=4,max_Q=4,\n",
    "               trace=True,error_action='ignore', suppress_warnings=True, stepwise=True).summary()"
   ]
  },
  {
   "cell_type": "markdown",
   "id": "18c44d34-7226-4e08-b988-d0d3feb9e641",
   "metadata": {},
   "source": [
    "## Creating a SARIMA model"
   ]
  },
  {
   "cell_type": "code",
   "execution_count": 16,
   "id": "af4bbb91-367b-4017-9847-5613b9750c66",
   "metadata": {},
   "outputs": [
    {
     "name": "stderr",
     "output_type": "stream",
     "text": [
      "C:\\Users\\rapha\\anaconda3\\Lib\\site-packages\\statsmodels\\tsa\\base\\tsa_model.py:473: ValueWarning: No frequency information was provided, so inferred frequency M will be used.\n",
      "  self._init_dates(dates, freq)\n",
      "C:\\Users\\rapha\\anaconda3\\Lib\\site-packages\\statsmodels\\tsa\\base\\tsa_model.py:473: ValueWarning: No frequency information was provided, so inferred frequency M will be used.\n",
      "  self._init_dates(dates, freq)\n",
      "C:\\Users\\rapha\\anaconda3\\Lib\\site-packages\\statsmodels\\tsa\\statespace\\sarimax.py:966: UserWarning: Non-stationary starting autoregressive parameters found. Using zeros as starting parameters.\n",
      "  warn('Non-stationary starting autoregressive parameters'\n",
      "C:\\Users\\rapha\\anaconda3\\Lib\\site-packages\\statsmodels\\tsa\\statespace\\sarimax.py:978: UserWarning: Non-invertible starting MA parameters found. Using zeros as starting parameters.\n",
      "  warn('Non-invertible starting MA parameters found.'\n",
      "C:\\Users\\rapha\\anaconda3\\Lib\\site-packages\\statsmodels\\base\\model.py:607: ConvergenceWarning: Maximum Likelihood optimization failed to converge. Check mle_retvals\n",
      "  warnings.warn(\"Maximum Likelihood optimization failed to \"\n"
     ]
    },
    {
     "name": "stdout",
     "output_type": "stream",
     "text": [
      "Root Mean Squared Error (RMSE): 0.31919500642505444\n",
      "Mean Absolute Percentage Error (MAPE): 2.2320098766652374\n"
     ]
    },
    {
     "data": {
      "image/png": "[encoded data removed]",
      "text/plain": [
       "<Figure size 1000x600 with 1 Axes>"
      ]
     },
     "metadata": {},
     "output_type": "display_data"
    },
    {
     "name": "stdout",
     "output_type": "stream",
     "text": [
      "          Original Prices  Forecasted Prices\n",
      "Dates                                       \n",
      "31-10-20            10.10                NaN\n",
      "30-11-20            10.30          10.100000\n",
      "31-12-20            11.00          10.351930\n",
      "31-01-21            10.90          11.182118\n",
      "28-02-21            10.90          10.885066\n",
      "31-03-21            10.90          10.789664\n",
      "30-04-21            10.40          10.740508\n",
      "31-05-21             9.84          10.167353\n",
      "30-06-21            10.00           9.651112\n",
      "31-07-21            10.10           9.970994\n",
      "31-08-21            10.30          10.187349\n",
      "30-09-21            10.20          10.463677\n",
      "31-10-21            10.10          10.377717\n",
      "30-11-21            11.20          10.270418\n",
      "31-12-21            11.40          11.352243\n",
      "31-01-22            11.50          11.398235\n",
      "28-02-22            11.80          11.342697\n",
      "31-03-22            11.50          11.510440\n",
      "30-04-22            10.70          11.127262\n",
      "31-05-22            10.70          10.360327\n",
      "30-06-22            10.40          10.495190\n",
      "31-07-22            10.50          10.362518\n",
      "31-08-22            10.40          10.634235\n",
      "30-09-22            10.80          10.669327\n",
      "31-10-22            11.00          11.134196\n",
      "30-11-22            11.60          11.311568\n",
      "31-12-22            11.60          11.796096\n",
      "31-01-23            12.10          11.633724\n",
      "28-02-23            11.70          11.946934\n",
      "31-03-23            12.00          11.404090\n",
      "30-04-23            11.50          11.613436\n",
      "31-05-23            11.20          11.114943\n",
      "30-06-23            10.90          10.914585\n",
      "31-07-23            11.40          10.784771\n",
      "31-08-23            11.10          11.435190\n",
      "30-09-23            11.50          11.282068\n",
      "31-10-23            11.80          11.768321\n",
      "30-11-23            12.20          12.074248\n",
      "31-12-23            12.80          12.397695\n",
      "31-01-24            12.60          12.837155\n",
      "29-02-24            12.40          12.484232\n",
      "31-03-24            12.70          12.176905\n",
      "30-04-24            12.10          12.389680\n",
      "31-05-24            11.40          11.803058\n",
      "30-06-24            11.50          11.231111\n",
      "31-07-24            11.60          11.482269\n",
      "31-08-24            11.50          11.719973\n",
      "30-09-24            11.80          11.739862\n"
     ]
    }
   ],
   "source": [
    "import numpy as np\n",
    "import pandas as pd\n",
    "from statsmodels.tsa.statespace.sarimax import SARIMAX\n",
    "import matplotlib.pyplot as plt\n",
    "\n",
    "# Function to calculate RMSE\n",
    "def calculate_rmse(actual, forecast):\n",
    "    return np.sqrt(np.mean((actual - forecast) ** 2))\n",
    "\n",
    "# Function to calculate MAPE\n",
    "def calculate_mape(actual, forecast):\n",
    "    return 100 / len(actual) * np.sum(np.abs((actual - forecast) / actual))\n",
    "\n",
    "\n",
    "# Fit a SARIMA model to the whole data\n",
    "order = (2, 1, 2)  # Example order for SARIMA model\n",
    "seasonal_order = (0, 0, 0, 12)  # Example seasonal order for SARIMA model\n",
    "sarima_model = SARIMAX(data['Prices'], order=order, seasonal_order=seasonal_order)\n",
    "sarima_results = sarima_model.fit()\n",
    "\n",
    "# Forecast prices for the whole dataset\n",
    "forecast = sarima_results.predict(start=data.index[1], end=data.index[-1])\n",
    "\n",
    "# Calculate RMSE\n",
    "rmse = calculate_rmse(data['Prices'], forecast)\n",
    "print(\"Root Mean Squared Error (RMSE):\", rmse)\n",
    "\n",
    "# Calculate MAPE\n",
    "mape = calculate_mape(data['Prices'], forecast)\n",
    "print(\"Mean Absolute Percentage Error (MAPE):\", mape)\n",
    "\n",
    "# Plot the original data and the forecasted values\n",
    "plt.figure(figsize=(10, 6))\n",
    "plt.plot(data.index[1:], data['Prices'][1:], label='Original Prices', color='blue')  # Start from the second point\n",
    "plt.plot(data.index[1:], forecast, label='Forecasted Prices', linestyle='--', color='red')  # Start from the second point\n",
    "plt.title('SARIMA Forecast of Natural Gas Prices')\n",
    "plt.xlabel('Date')\n",
    "plt.ylabel('Price ($)')\n",
    "plt.legend()\n",
    "plt.grid(True)\n",
    "plt.show()\n",
    "\n",
    "# Create a new dataset with forecasted data\n",
    "forecasted_data = pd.DataFrame(index=data.index)  # Use data.index directly as index\n",
    "forecasted_data['Original Prices'] = data['Prices']\n",
    "forecasted_data['Forecasted Prices'] = forecast\n",
    "# Convert index to datetime\n",
    "forecasted_data.index = pd.to_datetime(forecasted_data.index)\n",
    "\n",
    "# Format index to DD-MM-YY\n",
    "forecasted_data.index = forecasted_data.index.strftime('%d-%m-%y')\n",
    "\n",
    "print(forecasted_data)\n",
    "\n"
   ]
  },
  {
   "cell_type": "markdown",
   "id": "ff479c4a-0f39-4794-83cd-6fa7c0532049",
   "metadata": {},
   "source": [
    "## Evaluating the model\n",
    "### Changing the start date of the evaluation to give the model some time to learn the patterns of the dataset"
   ]
  },
  {
   "cell_type": "code",
   "execution_count": 17,
   "id": "77bcda1e-208f-4bac-83ab-8f17e42f9150",
   "metadata": {},
   "outputs": [
    {
     "name": "stdout",
     "output_type": "stream",
     "text": [
      "Root Mean Squared Error (RMSE): 0.2999378263964641\n",
      "Mean Absolute Percentage Error (MAPE): 2.102231846419831\n"
     ]
    },
    {
     "data": {
      "image/png": "[encoded data removed]",
      "text/plain": [
       "<Figure size 1000x600 with 1 Axes>"
      ]
     },
     "metadata": {},
     "output_type": "display_data"
    },
    {
     "name": "stdout",
     "output_type": "stream",
     "text": [
      "            Original Prices  Forecasted Prices\n",
      "Dates                                         \n",
      "2022-09-30             10.8          10.669327\n",
      "2022-10-31             11.0          11.134196\n",
      "2022-11-30             11.6          11.311568\n",
      "2022-12-31             11.6          11.796096\n",
      "2023-01-31             12.1          11.633724\n",
      "2023-02-28             11.7          11.946934\n",
      "2023-03-31             12.0          11.404090\n",
      "2023-04-30             11.5          11.613436\n",
      "2023-05-31             11.2          11.114943\n",
      "2023-06-30             10.9          10.914585\n",
      "2023-07-31             11.4          10.784771\n",
      "2023-08-31             11.1          11.435190\n",
      "2023-09-30             11.5          11.282068\n",
      "2023-10-31             11.8          11.768321\n",
      "2023-11-30             12.2          12.074248\n",
      "2023-12-31             12.8          12.397695\n",
      "2024-01-31             12.6          12.837155\n",
      "2024-02-29             12.4          12.484232\n",
      "2024-03-31             12.7          12.176905\n",
      "2024-04-30             12.1          12.389680\n",
      "2024-05-31             11.4          11.803058\n",
      "2024-06-30             11.5          11.231111\n",
      "2024-07-31             11.6          11.482269\n",
      "2024-08-31             11.5          11.719973\n",
      "2024-09-30             11.8          11.739862\n"
     ]
    }
   ],
   "source": [
    "# Start date as the 24th point in the dataset (mid point)\n",
    "start_date = '30-09-22'  \n",
    "\n",
    "# Forecast prices starting from the specified start date\n",
    "forecast = sarima_results.predict(start=start_date, end=data.index[-1])\n",
    "\n",
    "# Calculate RMSE\n",
    "rmse = calculate_rmse(data['Prices'].loc[start_date:], forecast)\n",
    "print(\"Root Mean Squared Error (RMSE):\", rmse)\n",
    "\n",
    "# Calculate MAPE\n",
    "mape = calculate_mape(data['Prices'].loc[start_date:], forecast)\n",
    "print(\"Mean Absolute Percentage Error (MAPE):\", mape)\n",
    "\n",
    "# Plot the original data and the forecasted values\n",
    "plt.figure(figsize=(10, 6))\n",
    "plt.plot(data.index, data['Prices'], label='Original Prices', color='blue')\n",
    "plt.plot(data.index[data.index >= start_date], forecast, label='Forecasted Prices', linestyle='--', color='red')\n",
    "plt.title('SARIMA Forecast of Natural Gas Prices')\n",
    "plt.xlabel('Date')\n",
    "plt.ylabel('Price ($)')\n",
    "plt.legend()\n",
    "plt.grid(True)\n",
    "plt.show()\n",
    "\n",
    "# Create a new dataset with forecasted data\n",
    "forecasted_data = pd.DataFrame(index=data.index[data.index >= start_date])\n",
    "forecasted_data['Original Prices'] = data['Prices'][data.index >= start_date]\n",
    "forecasted_data['Forecasted Prices'] = forecast\n",
    "\n",
    "print(forecasted_data)\n"
   ]
  },
  {
   "cell_type": "markdown",
   "id": "e512633d-b9c3-40aa-94cc-8a20ded77c1d",
   "metadata": {},
   "source": [
    "## Plotting the forecast"
   ]
  },
  {
   "cell_type": "code",
   "execution_count": 18,
   "id": "18fc32fa-6849-44e7-80c6-cbbaac190d77",
   "metadata": {},
   "outputs": [
    {
     "data": {
      "image/png": "[encoded data removed]",
      "text/plain": [
       "<Figure size 1000x600 with 1 Axes>"
      ]
     },
     "metadata": {},
     "output_type": "display_data"
    },
    {
     "name": "stdout",
     "output_type": "stream",
     "text": [
      "            Forecasted Prices\n",
      "2024-10-31          12.089875\n",
      "2024-11-30          12.351770\n",
      "2024-12-31          12.517921\n",
      "2025-01-31          12.547760\n",
      "2025-02-28          12.437699\n",
      "2025-03-31          12.220929\n",
      "2025-04-30          11.957570\n",
      "2025-05-31          11.718086\n",
      "2025-06-30          11.564498\n",
      "2025-07-31          11.534386\n",
      "2025-08-31          11.631807\n",
      "2025-09-30          11.827270\n"
     ]
    }
   ],
   "source": [
    "# Define the last date in the dataset\n",
    "last_date = data.index[-1]\n",
    "\n",
    "# Define the start date for forecasting\n",
    "start_date = last_date + pd.DateOffset(months=1)\n",
    "\n",
    "# Define the end date for forecasting (12 months past the last date in the dataset)\n",
    "end_date = last_date + pd.DateOffset(months=12)\n",
    "\n",
    "# Forecast prices starting from the specified start date\n",
    "forecast = sarima_results.predict(start=start_date, end=end_date)\n",
    "\n",
    "# Plot the original data and the forecasted values\n",
    "plt.figure(figsize=(10, 6))\n",
    "plt.plot(data.index, data['Prices'], label='Original Prices', color='blue')\n",
    "plt.plot(pd.date_range(start=start_date, end=end_date, freq='M'), forecast, label='Forecasted Prices', linestyle='--', color='red')\n",
    "plt.title('SARIMA Forecast of Natural Gas Prices')\n",
    "plt.xlabel('Date')\n",
    "plt.ylabel('Price ($)')\n",
    "plt.legend()\n",
    "plt.grid(True)\n",
    "plt.show()\n",
    "\n",
    "# Create a new dataset with forecasted data\n",
    "forecasted_data = pd.DataFrame(index=pd.date_range(start=start_date, end=end_date, freq='M'))\n",
    "forecasted_data['Forecasted Prices'] = forecast\n",
    "\n",
    "print(forecasted_data)\n"
   ]
  },
  {
   "cell_type": "markdown",
   "id": "2a5081cf-8ed0-414f-ab6b-522943240c28",
   "metadata": {},
   "source": [
    "## Plotting the forecast with plotly"
   ]
  },
  {
   "cell_type": "code",
   "execution_count": 20,
   "id": "7bb3c4bc-e8c2-4062-8410-d8613fb04064",
   "metadata": {},
   "outputs": [
    {
     "data": {
      "application/vnd.plotly.v1+json": {
       "config": {
        "plotlyServerURL": "https://plot.ly"
       },
       "data": [
        {
         "line": {
          "color": "blue"
         },
         "mode": "lines",
         "name": "Original Prices",
         "type": "scatter",
         "x": [
          "2020-10-31T00:00:00",
          "2020-11-30T00:00:00",
          "2020-12-31T00:00:00",
          "2021-01-31T00:00:00",
          "2021-02-28T00:00:00",
          "2021-03-31T00:00:00",
          "2021-04-30T00:00:00",
          "2021-05-31T00:00:00",
          "2021-06-30T00:00:00",
          "2021-07-31T00:00:00",
          "2021-08-31T00:00:00",
          "2021-09-30T00:00:00",
          "2021-10-31T00:00:00",
          "2021-11-30T00:00:00",
          "2021-12-31T00:00:00",
          "2022-01-31T00:00:00",
          "2022-02-28T00:00:00",
          "2022-03-31T00:00:00",
          "2022-04-30T00:00:00",
          "2022-05-31T00:00:00",
          "2022-06-30T00:00:00",
          "2022-07-31T00:00:00",
          "2022-08-31T00:00:00",
          "2022-09-30T00:00:00",
          "2022-10-31T00:00:00",
          "2022-11-30T00:00:00",
          "2022-12-31T00:00:00",
          "2023-01-31T00:00:00",
          "2023-02-28T00:00:00",
          "2023-03-31T00:00:00",
          "2023-04-30T00:00:00",
          "2023-05-31T00:00:00",
          "2023-06-30T00:00:00",
          "2023-07-31T00:00:00",
          "2023-08-31T00:00:00",
          "2023-09-30T00:00:00",
          "2023-10-31T00:00:00",
          "2023-11-30T00:00:00",
          "2023-12-31T00:00:00",
          "2024-01-31T00:00:00",
          "2024-02-29T00:00:00",
          "2024-03-31T00:00:00",
          "2024-04-30T00:00:00",
          "2024-05-31T00:00:00",
          "2024-06-30T00:00:00",
          "2024-07-31T00:00:00",
          "2024-08-31T00:00:00",
          "2024-09-30T00:00:00"
         ],
         "y": [
          10.1,
          10.3,
          11,
          10.9,
          10.9,
          10.9,
          10.4,
          9.84,
          10,
          10.1,
          10.3,
          10.2,
          10.1,
          11.2,
          11.4,
          11.5,
          11.8,
          11.5,
          10.7,
          10.7,
          10.4,
          10.5,
          10.4,
          10.8,
          11,
          11.6,
          11.6,
          12.1,
          11.7,
          12,
          11.5,
          11.2,
          10.9,
          11.4,
          11.1,
          11.5,
          11.8,
          12.2,
          12.8,
          12.6,
          12.4,
          12.7,
          12.1,
          11.4,
          11.5,
          11.6,
          11.5,
          11.8
         ]
        },
        {
         "line": {
          "color": "red",
          "dash": "dash"
         },
         "mode": "lines",
         "name": "Forecasted Prices",
         "type": "scatter",
         "x": [
          "2024-10-31T00:00:00",
          "2024-11-30T00:00:00",
          "2024-12-31T00:00:00",
          "2025-01-31T00:00:00",
          "2025-02-28T00:00:00",
          "2025-03-31T00:00:00",
          "2025-04-30T00:00:00",
          "2025-05-31T00:00:00",
          "2025-06-30T00:00:00",
          "2025-07-31T00:00:00",
          "2025-08-31T00:00:00",
          "2025-09-30T00:00:00"
         ],
         "y": [
          12.089874656304854,
          12.351769844293424,
          12.517921031009159,
          12.547759518555141,
          12.437699404963853,
          12.220928679288427,
          11.957569657915545,
          11.718086484087964,
          11.564497741714575,
          11.53438586917308,
          11.63180707947499,
          11.827269655949568,
          12.066504657841024
         ]
        }
       ],
       "layout": {
        "autosize": true,
        "legend": {
         "orientation": "h",
         "x": 0.1,
         "y": 1.1
        },
        "template": {
         "data": {
          "bar": [
           {
            "error_x": {
             "color": "#2a3f5f"
            },
            "error_y": {
             "color": "#2a3f5f"
            },
            "marker": {
             "line": {
              "color": "#E5ECF6",
              "width": 0.5
             },
             "pattern": {
              "fillmode": "overlay",
              "size": 10,
              "solidity": 0.2
             }
            },
            "type": "bar"
           }
          ],
          "barpolar": [
           {
            "marker": {
             "line": {
              "color": "#E5ECF6",
              "width": 0.5
             },
             "pattern": {
              "fillmode": "overlay",
              "size": 10,
              "solidity": 0.2
             }
            },
            "type": "barpolar"
           }
          ],
          "carpet": [
           {
            "aaxis": {
             "endlinecolor": "#2a3f5f",
             "gridcolor": "white",
             "linecolor": "white",
             "minorgridcolor": "white",
             "startlinecolor": "#2a3f5f"
            },
            "baxis": {
             "endlinecolor": "#2a3f5f",
             "gridcolor": "white",
             "linecolor": "white",
             "minorgridcolor": "white",
             "startlinecolor": "#2a3f5f"
            },
            "type": "carpet"
           }
          ],
          "choropleth": [
           {
            "colorbar": {
             "outlinewidth": 0,
             "ticks": ""
            },
            "type": "choropleth"
           }
          ],
          "contour": [
           {
            "colorbar": {
             "outlinewidth": 0,
             "ticks": ""
            },
            "colorscale": [
             [
              0,
              "#0d0887"
             ],
             [
              0.1111111111111111,
              "#46039f"
             ],
             [
              0.2222222222222222,
              "#7201a8"
             ],
             [
              0.3333333333333333,
              "#9c179e"
             ],
             [
              0.4444444444444444,
              "#bd3786"
             ],
             [
              0.5555555555555556,
              "#d8576b"
             ],
             [
              0.6666666666666666,
              "#ed7953"
             ],
             [
              0.7777777777777778,
              "#fb9f3a"
             ],
             [
              0.8888888888888888,
              "#fdca26"
             ],
             [
              1,
              "#f0f921"
             ]
            ],
            "type": "contour"
           }
          ],
          "contourcarpet": [
           {
            "colorbar": {
             "outlinewidth": 0,
             "ticks": ""
            },
            "type": "contourcarpet"
           }
          ],
          "heatmap": [
           {
            "colorbar": {
             "outlinewidth": 0,
             "ticks": ""
            },
            "colorscale": [
             [
              0,
              "#0d0887"
             ],
             [
              0.1111111111111111,
              "#46039f"
             ],
             [
              0.2222222222222222,
              "#7201a8"
             ],
             [
              0.3333333333333333,
              "#9c179e"
             ],
             [
              0.4444444444444444,
              "#bd3786"
             ],
             [
              0.5555555555555556,
              "#d8576b"
             ],
             [
              0.6666666666666666,
              "#ed7953"
             ],
             [
              0.7777777777777778,
              "#fb9f3a"
             ],
             [
              0.8888888888888888,
              "#fdca26"
             ],
             [
              1,
              "#f0f921"
             ]
            ],
            "type": "heatmap"
           }
          ],
          "heatmapgl": [
           {
            "colorbar": {
             "outlinewidth": 0,
             "ticks": ""
            },
            "colorscale": [
             [
              0,
              "#0d0887"
             ],
             [
              0.1111111111111111,
              "#46039f"
             ],
             [
              0.2222222222222222,
              "#7201a8"
             ],
             [
              0.3333333333333333,
              "#9c179e"
             ],
             [
              0.4444444444444444,
              "#bd3786"
             ],
             [
              0.5555555555555556,
              "#d8576b"
             ],
             [
              0.6666666666666666,
              "#ed7953"
             ],
             [
              0.7777777777777778,
              "#fb9f3a"
             ],
             [
              0.8888888888888888,
              "#fdca26"
             ],
             [
              1,
              "#f0f921"
             ]
            ],
            "type": "heatmapgl"
           }
          ],
          "histogram": [
           {
            "marker": {
             "pattern": {
              "fillmode": "overlay",
              "size": 10,
              "solidity": 0.2
             }
            },
            "type": "histogram"
           }
          ],
          "histogram2d": [
           {
            "colorbar": {
             "outlinewidth": 0,
             "ticks": ""
            },
            "colorscale": [
             [
              0,
              "#0d0887"
             ],
             [
              0.1111111111111111,
              "#46039f"
             ],
             [
              0.2222222222222222,
              "#7201a8"
             ],
             [
              0.3333333333333333,
              "#9c179e"
             ],
             [
              0.4444444444444444,
              "#bd3786"
             ],
             [
              0.5555555555555556,
              "#d8576b"
             ],
             [
              0.6666666666666666,
              "#ed7953"
             ],
             [
              0.7777777777777778,
              "#fb9f3a"
             ],
             [
              0.8888888888888888,
              "#fdca26"
             ],
             [
              1,
              "#f0f921"
             ]
            ],
            "type": "histogram2d"
           }
          ],
          "histogram2dcontour": [
           {
            "colorbar": {
             "outlinewidth": 0,
             "ticks": ""
            },
            "colorscale": [
             [
              0,
              "#0d0887"
             ],
             [
              0.1111111111111111,
              "#46039f"
             ],
             [
              0.2222222222222222,
              "#7201a8"
             ],
             [
              0.3333333333333333,
              "#9c179e"
             ],
             [
              0.4444444444444444,
              "#bd3786"
             ],
             [
              0.5555555555555556,
              "#d8576b"
             ],
             [
              0.6666666666666666,
              "#ed7953"
             ],
             [
              0.7777777777777778,
              "#fb9f3a"
             ],
             [
              0.8888888888888888,
              "#fdca26"
             ],
             [
              1,
              "#f0f921"
             ]
            ],
            "type": "histogram2dcontour"
           }
          ],
          "mesh3d": [
           {
            "colorbar": {
             "outlinewidth": 0,
             "ticks": ""
            },
            "type": "mesh3d"
           }
          ],
          "parcoords": [
           {
            "line": {
             "colorbar": {
              "outlinewidth": 0,
              "ticks": ""
             }
            },
            "type": "parcoords"
           }
          ],
          "pie": [
           {
            "automargin": true,
            "type": "pie"
           }
          ],
          "scatter": [
           {
            "fillpattern": {
             "fillmode": "overlay",
             "size": 10,
             "solidity": 0.2
            },
            "type": "scatter"
           }
          ],
          "scatter3d": [
           {
            "line": {
             "colorbar": {
              "outlinewidth": 0,
              "ticks": ""
             }
            },
            "marker": {
             "colorbar": {
              "outlinewidth": 0,
              "ticks": ""
             }
            },
            "type": "scatter3d"
           }
          ],
          "scattercarpet": [
           {
            "marker": {
             "colorbar": {
              "outlinewidth": 0,
              "ticks": ""
             }
            },
            "type": "scattercarpet"
           }
          ],
          "scattergeo": [
           {
            "marker": {
             "colorbar": {
              "outlinewidth": 0,
              "ticks": ""
             }
            },
            "type": "scattergeo"
           }
          ],
          "scattergl": [
           {
            "marker": {
             "colorbar": {
              "outlinewidth": 0,
              "ticks": ""
             }
            },
            "type": "scattergl"
           }
          ],
          "scattermapbox": [
           {
            "marker": {
             "colorbar": {
              "outlinewidth": 0,
              "ticks": ""
             }
            },
            "type": "scattermapbox"
           }
          ],
          "scatterpolar": [
           {
            "marker": {
             "colorbar": {
              "outlinewidth": 0,
              "ticks": ""
             }
            },
            "type": "scatterpolar"
           }
          ],
          "scatterpolargl": [
           {
            "marker": {
             "colorbar": {
              "outlinewidth": 0,
              "ticks": ""
             }
            },
            "type": "scatterpolargl"
           }
          ],
          "scatterternary": [
           {
            "marker": {
             "colorbar": {
              "outlinewidth": 0,
              "ticks": ""
             }
            },
            "type": "scatterternary"
           }
          ],
          "surface": [
           {
            "colorbar": {
             "outlinewidth": 0,
             "ticks": ""
            },
            "colorscale": [
             [
              0,
              "#0d0887"
             ],
             [
              0.1111111111111111,
              "#46039f"
             ],
             [
              0.2222222222222222,
              "#7201a8"
             ],
             [
              0.3333333333333333,
              "#9c179e"
             ],
             [
              0.4444444444444444,
              "#bd3786"
             ],
             [
              0.5555555555555556,
              "#d8576b"
             ],
             [
              0.6666666666666666,
              "#ed7953"
             ],
             [
              0.7777777777777778,
              "#fb9f3a"
             ],
             [
              0.8888888888888888,
              "#fdca26"
             ],
             [
              1,
              "#f0f921"
             ]
            ],
            "type": "surface"
           }
          ],
          "table": [
           {
            "cells": {
             "fill": {
              "color": "#EBF0F8"
             },
             "line": {
              "color": "white"
             }
            },
            "header": {
             "fill": {
              "color": "#C8D4E3"
             },
             "line": {
              "color": "white"
             }
            },
            "type": "table"
           }
          ]
         },
         "layout": {
          "annotationdefaults": {
           "arrowcolor": "#2a3f5f",
           "arrowhead": 0,
           "arrowwidth": 1
          },
          "autotypenumbers": "strict",
          "coloraxis": {
           "colorbar": {
            "outlinewidth": 0,
            "ticks": ""
           }
          },
          "colorscale": {
           "diverging": [
            [
             0,
             "#8e0152"
            ],
            [
             0.1,
             "#c51b7d"
            ],
            [
             0.2,
             "#de77ae"
            ],
            [
             0.3,
             "#f1b6da"
            ],
            [
             0.4,
             "#fde0ef"
            ],
            [
             0.5,
             "#f7f7f7"
            ],
            [
             0.6,
             "#e6f5d0"
            ],
            [
             0.7,
             "#b8e186"
            ],
            [
             0.8,
             "#7fbc41"
            ],
            [
             0.9,
             "#4d9221"
            ],
            [
             1,
             "#276419"
            ]
           ],
           "sequential": [
            [
             0,
             "#0d0887"
            ],
            [
             0.1111111111111111,
             "#46039f"
            ],
            [
             0.2222222222222222,
             "#7201a8"
            ],
            [
             0.3333333333333333,
             "#9c179e"
            ],
            [
             0.4444444444444444,
             "#bd3786"
            ],
            [
             0.5555555555555556,
             "#d8576b"
            ],
            [
             0.6666666666666666,
             "#ed7953"
            ],
            [
             0.7777777777777778,
             "#fb9f3a"
            ],
            [
             0.8888888888888888,
             "#fdca26"
            ],
            [
             1,
             "#f0f921"
            ]
           ],
           "sequentialminus": [
            [
             0,
             "#0d0887"
            ],
            [
             0.1111111111111111,
             "#46039f"
            ],
            [
             0.2222222222222222,
             "#7201a8"
            ],
            [
             0.3333333333333333,
             "#9c179e"
            ],
            [
             0.4444444444444444,
             "#bd3786"
            ],
            [
             0.5555555555555556,
             "#d8576b"
            ],
            [
             0.6666666666666666,
             "#ed7953"
            ],
            [
             0.7777777777777778,
             "#fb9f3a"
            ],
            [
             0.8888888888888888,
             "#fdca26"
            ],
            [
             1,
             "#f0f921"
            ]
           ]
          },
          "colorway": [
           "#636efa",
           "#EF553B",
           "#00cc96",
           "#ab63fa",
           "#FFA15A",
           "#19d3f3",
           "#FF6692",
           "#B6E880",
           "#FF97FF",
           "#FECB52"
          ],
          "font": {
           "color": "#2a3f5f"
          },
          "geo": {
           "bgcolor": "white",
           "lakecolor": "white",
           "landcolor": "#E5ECF6",
           "showlakes": true,
           "showland": true,
           "subunitcolor": "white"
          },
          "hoverlabel": {
           "align": "left"
          },
          "hovermode": "closest",
          "mapbox": {
           "style": "light"
          },
          "paper_bgcolor": "white",
          "plot_bgcolor": "#E5ECF6",
          "polar": {
           "angularaxis": {
            "gridcolor": "white",
            "linecolor": "white",
            "ticks": ""
           },
           "bgcolor": "#E5ECF6",
           "radialaxis": {
            "gridcolor": "white",
            "linecolor": "white",
            "ticks": ""
           }
          },
          "scene": {
           "xaxis": {
            "backgroundcolor": "#E5ECF6",
            "gridcolor": "white",
            "gridwidth": 2,
            "linecolor": "white",
            "showbackground": true,
            "ticks": "",
            "zerolinecolor": "white"
           },
           "yaxis": {
            "backgroundcolor": "#E5ECF6",
            "gridcolor": "white",
            "gridwidth": 2,
            "linecolor": "white",
            "showbackground": true,
            "ticks": "",
            "zerolinecolor": "white"
           },
           "zaxis": {
            "backgroundcolor": "#E5ECF6",
            "gridcolor": "white",
            "gridwidth": 2,
            "linecolor": "white",
            "showbackground": true,
            "ticks": "",
            "zerolinecolor": "white"
           }
          },
          "shapedefaults": {
           "line": {
            "color": "#2a3f5f"
           }
          },
          "ternary": {
           "aaxis": {
            "gridcolor": "white",
            "linecolor": "white",
            "ticks": ""
           },
           "baxis": {
            "gridcolor": "white",
            "linecolor": "white",
            "ticks": ""
           },
           "bgcolor": "#E5ECF6",
           "caxis": {
            "gridcolor": "white",
            "linecolor": "white",
            "ticks": ""
           }
          },
          "title": {
           "x": 0.05
          },
          "xaxis": {
           "automargin": true,
           "gridcolor": "white",
           "linecolor": "white",
           "ticks": "",
           "title": {
            "standoff": 15
           },
           "zerolinecolor": "white",
           "zerolinewidth": 2
          },
          "yaxis": {
           "automargin": true,
           "gridcolor": "white",
           "linecolor": "white",
           "ticks": "",
           "title": {
            "standoff": 15
           },
           "zerolinecolor": "white",
           "zerolinewidth": 2
          }
         }
        },
        "title": {
         "text": "SARIMA Forecast of Natural Gas Prices"
        },
        "xaxis": {
         "autorange": true,
         "range": [
          "2020-10-31",
          "2025-09-30"
         ],
         "title": {
          "text": "Date"
         },
         "type": "date"
        },
        "yaxis": {
         "autorange": true,
         "range": [
          9.675555555555555,
          12.964444444444446
         ],
         "title": {
          "text": "Price ($)"
         },
         "type": "linear"
        }
       }
      },
      "image/png": "[encoded data removed]",
      "text/html": [
       "<div>                            <div id=\"35cc9e7b-9046-4263-8195-273bae318555\" class=\"plotly-graph-div\" style=\"height:525px; width:100%;\"></div>            <script type=\"text/javascript\">                require([\"plotly\"], function(Plotly) {                    window.PLOTLYENV=window.PLOTLYENV || {};                                    if (document.getElementById(\"35cc9e7b-9046-4263-8195-273bae318555\")) {                    Plotly.newPlot(                        \"35cc9e7b-9046-4263-8195-273bae318555\",                        [{\"line\":{\"color\":\"blue\"},\"mode\":\"lines\",\"name\":\"Original Prices\",\"x\":[\"2020-10-31T00:00:00\",\"2020-11-30T00:00:00\",\"2020-12-31T00:00:00\",\"2021-01-31T00:00:00\",\"2021-02-28T00:00:00\",\"2021-03-31T00:00:00\",\"2021-04-30T00:00:00\",\"2021-05-31T00:00:00\",\"2021-06-30T00:00:00\",\"2021-07-31T00:00:00\",\"2021-08-31T00:00:00\",\"2021-09-30T00:00:00\",\"2021-10-31T00:00:00\",\"2021-11-30T00:00:00\",\"2021-12-31T00:00:00\",\"2022-01-31T00:00:00\",\"2022-02-28T00:00:00\",\"2022-03-31T00:00:00\",\"2022-04-30T00:00:00\",\"2022-05-31T00:00:00\",\"2022-06-30T00:00:00\",\"2022-07-31T00:00:00\",\"2022-08-31T00:00:00\",\"2022-09-30T00:00:00\",\"2022-10-31T00:00:00\",\"2022-11-30T00:00:00\",\"2022-12-31T00:00:00\",\"2023-01-31T00:00:00\",\"2023-02-28T00:00:00\",\"2023-03-31T00:00:00\",\"2023-04-30T00:00:00\",\"2023-05-31T00:00:00\",\"2023-06-30T00:00:00\",\"2023-07-31T00:00:00\",\"2023-08-31T00:00:00\",\"2023-09-30T00:00:00\",\"2023-10-31T00:00:00\",\"2023-11-30T00:00:00\",\"2023-12-31T00:00:00\",\"2024-01-31T00:00:00\",\"2024-02-29T00:00:00\",\"2024-03-31T00:00:00\",\"2024-04-30T00:00:00\",\"2024-05-31T00:00:00\",\"2024-06-30T00:00:00\",\"2024-07-31T00:00:00\",\"2024-08-31T00:00:00\",\"2024-09-30T00:00:00\"],\"y\":[10.1,10.3,11.0,10.9,10.9,10.9,10.4,9.84,10.0,10.1,10.3,10.2,10.1,11.2,11.4,11.5,11.8,11.5,10.7,10.7,10.4,10.5,10.4,10.8,11.0,11.6,11.6,12.1,11.7,12.0,11.5,11.2,10.9,11.4,11.1,11.5,11.8,12.2,12.8,12.6,12.4,12.7,12.1,11.4,11.5,11.6,11.5,11.8],\"type\":\"scatter\"},{\"line\":{\"color\":\"red\",\"dash\":\"dash\"},\"mode\":\"lines\",\"name\":\"Forecasted Prices\",\"x\":[\"2024-10-31T00:00:00\",\"2024-11-30T00:00:00\",\"2024-12-31T00:00:00\",\"2025-01-31T00:00:00\",\"2025-02-28T00:00:00\",\"2025-03-31T00:00:00\",\"2025-04-30T00:00:00\",\"2025-05-31T00:00:00\",\"2025-06-30T00:00:00\",\"2025-07-31T00:00:00\",\"2025-08-31T00:00:00\",\"2025-09-30T00:00:00\"],\"y\":[12.089874656304854,12.351769844293424,12.517921031009159,12.547759518555141,12.437699404963853,12.220928679288427,11.957569657915545,11.718086484087964,11.564497741714575,11.53438586917308,11.63180707947499,11.827269655949568,12.066504657841024],\"type\":\"scatter\"}],                        {\"legend\":{\"orientation\":\"h\",\"x\":0.1,\"y\":1.1},\"title\":{\"text\":\"SARIMA Forecast of Natural Gas Prices\"},\"xaxis\":{\"title\":{\"text\":\"Date\"}},\"yaxis\":{\"title\":{\"text\":\"Price ($)\"}},\"template\":{\"data\":{\"histogram2dcontour\":[{\"type\":\"histogram2dcontour\",\"colorbar\":{\"outlinewidth\":0,\"ticks\":\"\"},\"colorscale\":[[0.0,\"#0d0887\"],[0.1111111111111111,\"#46039f\"],[0.2222222222222222,\"#7201a8\"],[0.3333333333333333,\"#9c179e\"],[0.4444444444444444,\"#bd3786\"],[0.5555555555555556,\"#d8576b\"],[0.6666666666666666,\"#ed7953\"],[0.7777777777777778,\"#fb9f3a\"],[0.8888888888888888,\"#fdca26\"],[1.0,\"#f0f921\"]]}],\"choropleth\":[{\"type\":\"choropleth\",\"colorbar\":{\"outlinewidth\":0,\"ticks\":\"\"}}],\"histogram2d\":[{\"type\":\"histogram2d\",\"colorbar\":{\"outlinewidth\":0,\"ticks\":\"\"},\"colorscale\":[[0.0,\"#0d0887\"],[0.1111111111111111,\"#46039f\"],[0.2222222222222222,\"#7201a8\"],[0.3333333333333333,\"#9c179e\"],[0.4444444444444444,\"#bd3786\"],[0.5555555555555556,\"#d8576b\"],[0.6666666666666666,\"#ed7953\"],[0.7777777777777778,\"#fb9f3a\"],[0.8888888888888888,\"#fdca26\"],[1.0,\"#f0f921\"]]}],\"heatmap\":[{\"type\":\"heatmap\",\"colorbar\":{\"outlinewidth\":0,\"ticks\":\"\"},\"colorscale\":[[0.0,\"#0d0887\"],[0.1111111111111111,\"#46039f\"],[0.2222222222222222,\"#7201a8\"],[0.3333333333333333,\"#9c179e\"],[0.4444444444444444,\"#bd3786\"],[0.5555555555555556,\"#d8576b\"],[0.6666666666666666,\"#ed7953\"],[0.7777777777777778,\"#fb9f3a\"],[0.8888888888888888,\"#fdca26\"],[1.0,\"#f0f921\"]]}],\"heatmapgl\":[{\"type\":\"heatmapgl\",\"colorbar\":{\"outlinewidth\":0,\"ticks\":\"\"},\"colorscale\":[[0.0,\"#0d0887\"],[0.1111111111111111,\"#46039f\"],[0.2222222222222222,\"#7201a8\"],[0.3333333333333333,\"#9c179e\"],[0.4444444444444444,\"#bd3786\"],[0.5555555555555556,\"#d8576b\"],[0.6666666666666666,\"#ed7953\"],[0.7777777777777778,\"#fb9f3a\"],[0.8888888888888888,\"#fdca26\"],[1.0,\"#f0f921\"]]}],\"contourcarpet\":[{\"type\":\"contourcarpet\",\"colorbar\":{\"outlinewidth\":0,\"ticks\":\"\"}}],\"contour\":[{\"type\":\"contour\",\"colorbar\":{\"outlinewidth\":0,\"ticks\":\"\"},\"colorscale\":[[0.0,\"#0d0887\"],[0.1111111111111111,\"#46039f\"],[0.2222222222222222,\"#7201a8\"],[0.3333333333333333,\"#9c179e\"],[0.4444444444444444,\"#bd3786\"],[0.5555555555555556,\"#d8576b\"],[0.6666666666666666,\"#ed7953\"],[0.7777777777777778,\"#fb9f3a\"],[0.8888888888888888,\"#fdca26\"],[1.0,\"#f0f921\"]]}],\"surface\":[{\"type\":\"surface\",\"colorbar\":{\"outlinewidth\":0,\"ticks\":\"\"},\"colorscale\":[[0.0,\"#0d0887\"],[0.1111111111111111,\"#46039f\"],[0.2222222222222222,\"#7201a8\"],[0.3333333333333333,\"#9c179e\"],[0.4444444444444444,\"#bd3786\"],[0.5555555555555556,\"#d8576b\"],[0.6666666666666666,\"#ed7953\"],[0.7777777777777778,\"#fb9f3a\"],[0.8888888888888888,\"#fdca26\"],[1.0,\"#f0f921\"]]}],\"mesh3d\":[{\"type\":\"mesh3d\",\"colorbar\":{\"outlinewidth\":0,\"ticks\":\"\"}}],\"scatter\":[{\"fillpattern\":{\"fillmode\":\"overlay\",\"size\":10,\"solidity\":0.2},\"type\":\"scatter\"}],\"parcoords\":[{\"type\":\"parcoords\",\"line\":{\"colorbar\":{\"outlinewidth\":0,\"ticks\":\"\"}}}],\"scatterpolargl\":[{\"type\":\"scatterpolargl\",\"marker\":{\"colorbar\":{\"outlinewidth\":0,\"ticks\":\"\"}}}],\"bar\":[{\"error_x\":{\"color\":\"#2a3f5f\"},\"error_y\":{\"color\":\"#2a3f5f\"},\"marker\":{\"line\":{\"color\":\"#E5ECF6\",\"width\":0.5},\"pattern\":{\"fillmode\":\"overlay\",\"size\":10,\"solidity\":0.2}},\"type\":\"bar\"}],\"scattergeo\":[{\"type\":\"scattergeo\",\"marker\":{\"colorbar\":{\"outlinewidth\":0,\"ticks\":\"\"}}}],\"scatterpolar\":[{\"type\":\"scatterpolar\",\"marker\":{\"colorbar\":{\"outlinewidth\":0,\"ticks\":\"\"}}}],\"histogram\":[{\"marker\":{\"pattern\":{\"fillmode\":\"overlay\",\"size\":10,\"solidity\":0.2}},\"type\":\"histogram\"}],\"scattergl\":[{\"type\":\"scattergl\",\"marker\":{\"colorbar\":{\"outlinewidth\":0,\"ticks\":\"\"}}}],\"scatter3d\":[{\"type\":\"scatter3d\",\"line\":{\"colorbar\":{\"outlinewidth\":0,\"ticks\":\"\"}},\"marker\":{\"colorbar\":{\"outlinewidth\":0,\"ticks\":\"\"}}}],\"scattermapbox\":[{\"type\":\"scattermapbox\",\"marker\":{\"colorbar\":{\"outlinewidth\":0,\"ticks\":\"\"}}}],\"scatterternary\":[{\"type\":\"scatterternary\",\"marker\":{\"colorbar\":{\"outlinewidth\":0,\"ticks\":\"\"}}}],\"scattercarpet\":[{\"type\":\"scattercarpet\",\"marker\":{\"colorbar\":{\"outlinewidth\":0,\"ticks\":\"\"}}}],\"carpet\":[{\"aaxis\":{\"endlinecolor\":\"#2a3f5f\",\"gridcolor\":\"white\",\"linecolor\":\"white\",\"minorgridcolor\":\"white\",\"startlinecolor\":\"#2a3f5f\"},\"baxis\":{\"endlinecolor\":\"#2a3f5f\",\"gridcolor\":\"white\",\"linecolor\":\"white\",\"minorgridcolor\":\"white\",\"startlinecolor\":\"#2a3f5f\"},\"type\":\"carpet\"}],\"table\":[{\"cells\":{\"fill\":{\"color\":\"#EBF0F8\"},\"line\":{\"color\":\"white\"}},\"header\":{\"fill\":{\"color\":\"#C8D4E3\"},\"line\":{\"color\":\"white\"}},\"type\":\"table\"}],\"barpolar\":[{\"marker\":{\"line\":{\"color\":\"#E5ECF6\",\"width\":0.5},\"pattern\":{\"fillmode\":\"overlay\",\"size\":10,\"solidity\":0.2}},\"type\":\"barpolar\"}],\"pie\":[{\"automargin\":true,\"type\":\"pie\"}]},\"layout\":{\"autotypenumbers\":\"strict\",\"colorway\":[\"#636efa\",\"#EF553B\",\"#00cc96\",\"#ab63fa\",\"#FFA15A\",\"#19d3f3\",\"#FF6692\",\"#B6E880\",\"#FF97FF\",\"#FECB52\"],\"font\":{\"color\":\"#2a3f5f\"},\"hovermode\":\"closest\",\"hoverlabel\":{\"align\":\"left\"},\"paper_bgcolor\":\"white\",\"plot_bgcolor\":\"#E5ECF6\",\"polar\":{\"bgcolor\":\"#E5ECF6\",\"angularaxis\":{\"gridcolor\":\"white\",\"linecolor\":\"white\",\"ticks\":\"\"},\"radialaxis\":{\"gridcolor\":\"white\",\"linecolor\":\"white\",\"ticks\":\"\"}},\"ternary\":{\"bgcolor\":\"#E5ECF6\",\"aaxis\":{\"gridcolor\":\"white\",\"linecolor\":\"white\",\"ticks\":\"\"},\"baxis\":{\"gridcolor\":\"white\",\"linecolor\":\"white\",\"ticks\":\"\"},\"caxis\":{\"gridcolor\":\"white\",\"linecolor\":\"white\",\"ticks\":\"\"}},\"coloraxis\":{\"colorbar\":{\"outlinewidth\":0,\"ticks\":\"\"}},\"colorscale\":{\"sequential\":[[0.0,\"#0d0887\"],[0.1111111111111111,\"#46039f\"],[0.2222222222222222,\"#7201a8\"],[0.3333333333333333,\"#9c179e\"],[0.4444444444444444,\"#bd3786\"],[0.5555555555555556,\"#d8576b\"],[0.6666666666666666,\"#ed7953\"],[0.7777777777777778,\"#fb9f3a\"],[0.8888888888888888,\"#fdca26\"],[1.0,\"#f0f921\"]],\"sequentialminus\":[[0.0,\"#0d0887\"],[0.1111111111111111,\"#46039f\"],[0.2222222222222222,\"#7201a8\"],[0.3333333333333333,\"#9c179e\"],[0.4444444444444444,\"#bd3786\"],[0.5555555555555556,\"#d8576b\"],[0.6666666666666666,\"#ed7953\"],[0.7777777777777778,\"#fb9f3a\"],[0.8888888888888888,\"#fdca26\"],[1.0,\"#f0f921\"]],\"diverging\":[[0,\"#8e0152\"],[0.1,\"#c51b7d\"],[0.2,\"#de77ae\"],[0.3,\"#f1b6da\"],[0.4,\"#fde0ef\"],[0.5,\"#f7f7f7\"],[0.6,\"#e6f5d0\"],[0.7,\"#b8e186\"],[0.8,\"#7fbc41\"],[0.9,\"#4d9221\"],[1,\"#276419\"]]},\"xaxis\":{\"gridcolor\":\"white\",\"linecolor\":\"white\",\"ticks\":\"\",\"title\":{\"standoff\":15},\"zerolinecolor\":\"white\",\"automargin\":true,\"zerolinewidth\":2},\"yaxis\":{\"gridcolor\":\"white\",\"linecolor\":\"white\",\"ticks\":\"\",\"title\":{\"standoff\":15},\"zerolinecolor\":\"white\",\"automargin\":true,\"zerolinewidth\":2},\"scene\":{\"xaxis\":{\"backgroundcolor\":\"#E5ECF6\",\"gridcolor\":\"white\",\"linecolor\":\"white\",\"showbackground\":true,\"ticks\":\"\",\"zerolinecolor\":\"white\",\"gridwidth\":2},\"yaxis\":{\"backgroundcolor\":\"#E5ECF6\",\"gridcolor\":\"white\",\"linecolor\":\"white\",\"showbackground\":true,\"ticks\":\"\",\"zerolinecolor\":\"white\",\"gridwidth\":2},\"zaxis\":{\"backgroundcolor\":\"#E5ECF6\",\"gridcolor\":\"white\",\"linecolor\":\"white\",\"showbackground\":true,\"ticks\":\"\",\"zerolinecolor\":\"white\",\"gridwidth\":2}},\"shapedefaults\":{\"line\":{\"color\":\"#2a3f5f\"}},\"annotationdefaults\":{\"arrowcolor\":\"#2a3f5f\",\"arrowhead\":0,\"arrowwidth\":1},\"geo\":{\"bgcolor\":\"white\",\"landcolor\":\"#E5ECF6\",\"subunitcolor\":\"white\",\"showland\":true,\"showlakes\":true,\"lakecolor\":\"white\"},\"title\":{\"x\":0.05},\"mapbox\":{\"style\":\"light\"}}}},                        {\"responsive\": true}                    ).then(function(){\n",
       "                            \n",
       "var gd = document.getElementById('35cc9e7b-9046-4263-8195-273bae318555');\n",
       "var x = new MutationObserver(function (mutations, observer) {{\n",
       "        var display = window.getComputedStyle(gd).display;\n",
       "        if (!display || display === 'none') {{\n",
       "            console.log([gd, 'removed!']);\n",
       "            Plotly.purge(gd);\n",
       "            observer.disconnect();\n",
       "        }}\n",
       "}});\n",
       "\n",
       "// Listen for the removal of the full notebook cells\n",
       "var notebookContainer = gd.closest('#notebook-container');\n",
       "if (notebookContainer) {{\n",
       "    x.observe(notebookContainer, {childList: true});\n",
       "}}\n",
       "\n",
       "// Listen for the clearing of the current output cell\n",
       "var outputEl = gd.closest('.output');\n",
       "if (outputEl) {{\n",
       "    x.observe(outputEl, {childList: true});\n",
       "}}\n",
       "\n",
       "                        })                };                });            </script>        </div>"
      ]
     },
     "metadata": {},
     "output_type": "display_data"
    },
    {
     "name": "stdout",
     "output_type": "stream",
     "text": [
      "            Forecasted Prices\n",
      "2024-10-31          12.089875\n",
      "2024-11-30          12.351770\n",
      "2024-12-31          12.517921\n",
      "2025-01-31          12.547760\n",
      "2025-02-28          12.437699\n",
      "2025-03-31          12.220929\n",
      "2025-04-30          11.957570\n",
      "2025-05-31          11.718086\n",
      "2025-06-30          11.564498\n",
      "2025-07-31          11.534386\n",
      "2025-08-31          11.631807\n",
      "2025-09-30          11.827270\n"
     ]
    }
   ],
   "source": [
    "import plotly.graph_objects as go\n",
    "# Define the last date in the dataset\n",
    "last_date = data.index[-1]\n",
    "\n",
    "# Define the start date for forecasting\n",
    "start_date = last_date + pd.DateOffset(months=1)\n",
    "\n",
    "# Define the end date for forecasting \n",
    "end_date = last_date + pd.DateOffset(months=13)\n",
    "\n",
    "# Forecast prices starting from the specified start date\n",
    "forecast = sarima_results.predict(start=start_date, end=end_date)\n",
    "\n",
    "# Create traces\n",
    "trace_original = go.Scatter(x=data.index, y=data['Prices'], mode='lines', name='Original Prices', line=dict(color='blue'))\n",
    "trace_forecasted = go.Scatter(x=pd.date_range(start=start_date, end=end_date, freq='M'), y=forecast, mode='lines', name='Forecasted Prices', line=dict(color='red', dash='dash'))\n",
    "\n",
    "# Create layout\n",
    "layout = go.Layout(title='SARIMA Forecast of Natural Gas Prices',\n",
    "                   xaxis=dict(title='Date'),\n",
    "                   yaxis=dict(title='Price ($)'),\n",
    "                   legend=dict(x=0.1, y=1.1, orientation='h'))\n",
    "\n",
    "# Create figure\n",
    "fig = go.Figure(data=[trace_original, trace_forecasted], layout=layout)\n",
    "\n",
    "# Show plot\n",
    "fig.show()\n",
    "\n",
    "# Create a new dataset with forecasted data\n",
    "forecasted_data = pd.DataFrame(index=pd.date_range(start=start_date, end=end_date, freq='M'))\n",
    "forecasted_data['Forecasted Prices'] = forecast\n",
    "\n",
    "print(forecasted_data)"
   ]
  },
  {
   "cell_type": "code",
   "execution_count": 11,
   "id": "f53442ef-d77f-4ae2-9a9a-e0a5df717106",
   "metadata": {},
   "outputs": [
    {
     "name": "stdin",
     "output_type": "stream",
     "text": [
      "Enter a date in YYYY-MM-DD format:  2025-07-31\n"
     ]
    },
    {
     "name": "stdout",
     "output_type": "stream",
     "text": [
      "Forecasted price for 2025-07-31: 12.181147167432881\n"
     ]
    }
   ],
   "source": [
    "def get_forecast_for_date(forecasted_data):\n",
    "    # Ask the user for a date\n",
    "    input_date = input(\"Enter a date in YYYY-MM-DD format: \")\n",
    "\n",
    "    try:\n",
    "        # Parse the input date to datetime format\n",
    "        date = pd.to_datetime(input_date, format='%Y-%m-%d').normalize()\n",
    "\n",
    "        # Check if the date exists in the forecasted_data\n",
    "        if date in forecasted_data.index:\n",
    "            # Get the forecasted price for the input date\n",
    "            forecast_price = forecasted_data.loc[date, 'Forecasted Prices']\n",
    "            # Format the date to remove the time component\n",
    "            formatted_date = date.strftime('%Y-%m-%d')\n",
    "            print(f\"Forecasted price for {formatted_date}: {forecast_price}\")\n",
    "        else:\n",
    "            print(\"Date not found in forecasted data.\")\n",
    "    except ValueError:\n",
    "        print(\"Invalid date format. Please enter a date in YYYY-MM-DD format.\")\n",
    "\n",
    "# Example usage:\n",
    "get_forecast_for_date(forecasted_data)\n"
   ]
  },
  {
   "cell_type": "code",
   "execution_count": null,
   "id": "69a42d05-61e4-4b80-8db3-ff98c2e215cd",
   "metadata": {},
   "outputs": [],
   "source": []
  }
 ],
 "metadata": {
  "kernelspec": {
   "display_name": "Python 3 (ipykernel)",
   "language": "python",
   "name": "python3"
  },
  "language_info": {
   "codemirror_mode": {
    "name": "ipython",
    "version": 3
   },
   "file_extension": ".py",
   "mimetype": "text/x-python",
   "name": "python",
   "nbconvert_exporter": "python",
   "pygments_lexer": "ipython3",
   "version": "3.11.7"
  }
 },
 "nbformat": 4,
 "nbformat_minor": 5
}
